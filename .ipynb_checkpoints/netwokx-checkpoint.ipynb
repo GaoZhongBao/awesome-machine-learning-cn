{
 "cells": [
  {
   "cell_type": "code",
   "execution_count": 1,
   "metadata": {
    "collapsed": true
   },
   "outputs": [],
   "source": [
    "import numpy as np\n",
    "import pandas as pd"
   ]
  },
  {
   "cell_type": "code",
   "execution_count": 4,
   "metadata": {
    "collapsed": true
   },
   "outputs": [],
   "source": [
    "# year:数据年份\n",
    "year = '2010-water'"
   ]
  },
  {
   "cell_type": "code",
   "execution_count": 5,
   "metadata": {
    "collapsed": true
   },
   "outputs": [],
   "source": [
    "file_name = year+'-node-edge-V20170321'\n",
    "node_sheetname = year+'-node'\n",
    "edge_sheetname = year+'-edge'\n"
   ]
  },
  {
   "cell_type": "code",
   "execution_count": 7,
   "metadata": {
    "collapsed": false
   },
   "outputs": [],
   "source": [
    "# 载入数据\n",
    "node_data = pd.read_excel('D:\\qq\\\\'+file_name+'.xlsx',\n",
    "                          sheetname=node_sheetname)\n",
    "edge_data = pd.read_excel('D:\\qq\\\\'+file_name+'.xlsx',\n",
    "                          sheetname=edge_sheetname)\n"
   ]
  },
  {
   "cell_type": "code",
   "execution_count": 8,
   "metadata": {
    "collapsed": true
   },
   "outputs": [],
   "source": [
    "# 节点数和边数\n",
    "acounts_node = node_data['Id'].notnull().sum()\n",
    "acounts_edge = edge_data['Id'].notnull().sum()"
   ]
  },
  {
   "cell_type": "code",
   "execution_count": 9,
   "metadata": {
    "collapsed": true
   },
   "outputs": [],
   "source": [
    "# 构建节点和边\n",
    "node = []    #节点\n",
    "edge = []    #边\n",
    "for i in range(acounts_node):\n",
    "    node_loc = [0,0]    #节点坐标    \n",
    "    node_loc[0] = int(node_data['X'][i]*10000)\n",
    "    node_loc[1] = int(node_data['Y'][i]*10000)\n",
    "    node.append(tuple(node_loc))\n",
    "for i in range(acounts_edge):\n",
    "    node_loc = [0,0]    #节点坐标\n",
    "    edge_loc = [0,0,0]    #边坐标\n",
    "    node_loc[0] = int(edge_data['X1'][i]*10000)\n",
    "    node_loc[1] = int(edge_data['Y1'][i]*10000)    \n",
    "    edge_loc[0] = tuple(node_loc)\n",
    "    node_loc = [0,0]    #节点坐标    \n",
    "    node_loc[0] = int(edge_data['X2'][i]*10000)\n",
    "    node_loc[1] = int(edge_data['Y2'][i]*10000)\n",
    "    edge_loc[1] = tuple(node_loc)\n",
    "    edge_loc[2] = edge_data['Length'][i]\n",
    "    edge.append(tuple(edge_loc))\n",
    " "
   ]
  },
  {
   "cell_type": "code",
   "execution_count": 10,
   "metadata": {
    "collapsed": true
   },
   "outputs": [],
   "source": [
    "#载入networkx\n",
    "import networkx as nx\n",
    "\n",
    "MG = nx.MultiGraph()\n",
    "MG.add_nodes_from(node)\n",
    "MG.add_weighted_edges_from(edge)"
   ]
  },
  {
   "cell_type": "code",
   "execution_count": 11,
   "metadata": {
    "collapsed": false
   },
   "outputs": [
    {
     "ename": "KeyboardInterrupt",
     "evalue": "",
     "output_type": "error",
     "traceback": [
      "\u001b[0;31m---------------------------------------------------------------------------\u001b[0m",
      "\u001b[0;31mKeyboardInterrupt\u001b[0m                         Traceback (most recent call last)",
      "\u001b[0;32m<ipython-input-11-b2dfc88f6d74>\u001b[0m in \u001b[0;36m<module>\u001b[0;34m()\u001b[0m\n\u001b[1;32m     54\u001b[0m         \u001b[1;32mfor\u001b[0m \u001b[0mj\u001b[0m \u001b[1;32min\u001b[0m \u001b[0mrange\u001b[0m\u001b[1;33m(\u001b[0m\u001b[0macounts_node\u001b[0m\u001b[1;33m)\u001b[0m\u001b[1;33m:\u001b[0m\u001b[1;33m\u001b[0m\u001b[0m\n\u001b[1;32m     55\u001b[0m             \u001b[1;32mif\u001b[0m \u001b[0mi\u001b[0m \u001b[1;33m>\u001b[0m \u001b[0mj\u001b[0m \u001b[1;32mand\u001b[0m \u001b[0mi\u001b[0m\u001b[1;33m!=\u001b[0m\u001b[0mm\u001b[0m \u001b[1;32mand\u001b[0m \u001b[0mj\u001b[0m\u001b[1;33m!=\u001b[0m\u001b[0mm\u001b[0m \u001b[1;32mand\u001b[0m \u001b[0mnode\u001b[0m\u001b[1;33m[\u001b[0m\u001b[0mj\u001b[0m\u001b[1;33m]\u001b[0m \u001b[1;32min\u001b[0m \u001b[0md_ij_no_length_networkx\u001b[0m\u001b[1;33m[\u001b[0m\u001b[0mnode\u001b[0m\u001b[1;33m[\u001b[0m\u001b[0mi\u001b[0m\u001b[1;33m]\u001b[0m\u001b[1;33m]\u001b[0m\u001b[1;33m:\u001b[0m\u001b[1;33m\u001b[0m\u001b[0m\n\u001b[0;32m---> 56\u001b[0;31m                 \u001b[0mpaths_ab_no_length\u001b[0m \u001b[1;33m=\u001b[0m \u001b[1;33m[\u001b[0m\u001b[0mp\u001b[0m \u001b[1;32mfor\u001b[0m \u001b[0mp\u001b[0m \u001b[1;32min\u001b[0m \u001b[0mnx\u001b[0m\u001b[1;33m.\u001b[0m\u001b[0mall_shortest_paths\u001b[0m\u001b[1;33m(\u001b[0m\u001b[0mMG\u001b[0m\u001b[1;33m,\u001b[0m\u001b[0msource\u001b[0m\u001b[1;33m=\u001b[0m\u001b[0mnode\u001b[0m\u001b[1;33m[\u001b[0m\u001b[0mi\u001b[0m\u001b[1;33m]\u001b[0m\u001b[1;33m,\u001b[0m\u001b[0mtarget\u001b[0m\u001b[1;33m=\u001b[0m\u001b[0mnode\u001b[0m\u001b[1;33m[\u001b[0m\u001b[0mj\u001b[0m\u001b[1;33m]\u001b[0m\u001b[1;33m)\u001b[0m\u001b[1;33m]\u001b[0m\u001b[1;33m\u001b[0m\u001b[0m\n\u001b[0m\u001b[1;32m     57\u001b[0m                 \u001b[0msigma_ab_no_length\u001b[0m \u001b[1;33m+=\u001b[0m \u001b[0mlen\u001b[0m\u001b[1;33m(\u001b[0m\u001b[0mpaths_ab_no_length\u001b[0m\u001b[1;33m)\u001b[0m\u001b[1;33m\u001b[0m\u001b[0m\n\u001b[1;32m     58\u001b[0m                 \u001b[1;32mfor\u001b[0m \u001b[0mpath\u001b[0m \u001b[1;32min\u001b[0m \u001b[0mpaths_ab_no_length\u001b[0m\u001b[1;33m:\u001b[0m\u001b[1;33m\u001b[0m\u001b[0m\n",
      "\u001b[0;32mC:\\Anaconda3\\envs\\python2\\lib\\site-packages\\networkx\\algorithms\\shortest_paths\\generic.pyc\u001b[0m in \u001b[0;36mall_shortest_paths\u001b[0;34m(G, source, target, weight)\u001b[0m\n\u001b[1;32m    355\u001b[0m         \u001b[0mpred\u001b[0m\u001b[1;33m,\u001b[0m\u001b[0mdist\u001b[0m \u001b[1;33m=\u001b[0m \u001b[0mnx\u001b[0m\u001b[1;33m.\u001b[0m\u001b[0mdijkstra_predecessor_and_distance\u001b[0m\u001b[1;33m(\u001b[0m\u001b[0mG\u001b[0m\u001b[1;33m,\u001b[0m\u001b[0msource\u001b[0m\u001b[1;33m,\u001b[0m\u001b[0mweight\u001b[0m\u001b[1;33m=\u001b[0m\u001b[0mweight\u001b[0m\u001b[1;33m)\u001b[0m\u001b[1;33m\u001b[0m\u001b[0m\n\u001b[1;32m    356\u001b[0m     \u001b[1;32melse\u001b[0m\u001b[1;33m:\u001b[0m\u001b[1;33m\u001b[0m\u001b[0m\n\u001b[0;32m--> 357\u001b[0;31m         \u001b[0mpred\u001b[0m \u001b[1;33m=\u001b[0m \u001b[0mnx\u001b[0m\u001b[1;33m.\u001b[0m\u001b[0mpredecessor\u001b[0m\u001b[1;33m(\u001b[0m\u001b[0mG\u001b[0m\u001b[1;33m,\u001b[0m\u001b[0msource\u001b[0m\u001b[1;33m)\u001b[0m\u001b[1;33m\u001b[0m\u001b[0m\n\u001b[0m\u001b[1;32m    358\u001b[0m     \u001b[1;32mif\u001b[0m \u001b[0mtarget\u001b[0m \u001b[1;32mnot\u001b[0m \u001b[1;32min\u001b[0m \u001b[0mpred\u001b[0m\u001b[1;33m:\u001b[0m\u001b[1;33m\u001b[0m\u001b[0m\n\u001b[1;32m    359\u001b[0m         \u001b[1;32mraise\u001b[0m \u001b[0mnx\u001b[0m\u001b[1;33m.\u001b[0m\u001b[0mNetworkXNoPath\u001b[0m\u001b[1;33m(\u001b[0m\u001b[1;33m)\u001b[0m\u001b[1;33m\u001b[0m\u001b[0m\n",
      "\u001b[0;32mC:\\Anaconda3\\envs\\python2\\lib\\site-packages\\networkx\\algorithms\\shortest_paths\\unweighted.pyc\u001b[0m in \u001b[0;36mpredecessor\u001b[0;34m(G, source, target, cutoff, return_seen)\u001b[0m\n\u001b[1;32m    326\u001b[0m     \u001b[0mseen\u001b[0m\u001b[1;33m=\u001b[0m\u001b[1;33m{\u001b[0m\u001b[0msource\u001b[0m\u001b[1;33m:\u001b[0m\u001b[0mlevel\u001b[0m\u001b[1;33m}\u001b[0m      \u001b[1;31m# level (number of hops) when seen in BFS\u001b[0m\u001b[1;33m\u001b[0m\u001b[0m\n\u001b[1;32m    327\u001b[0m     \u001b[0mpred\u001b[0m\u001b[1;33m=\u001b[0m\u001b[1;33m{\u001b[0m\u001b[0msource\u001b[0m\u001b[1;33m:\u001b[0m\u001b[1;33m[\u001b[0m\u001b[1;33m]\u001b[0m\u001b[1;33m}\u001b[0m         \u001b[1;31m# predecessor dictionary\u001b[0m\u001b[1;33m\u001b[0m\u001b[0m\n\u001b[0;32m--> 328\u001b[0;31m     \u001b[1;32mwhile\u001b[0m \u001b[0mnextlevel\u001b[0m\u001b[1;33m:\u001b[0m\u001b[1;33m\u001b[0m\u001b[0m\n\u001b[0m\u001b[1;32m    329\u001b[0m         \u001b[0mlevel\u001b[0m\u001b[1;33m=\u001b[0m\u001b[0mlevel\u001b[0m\u001b[1;33m+\u001b[0m\u001b[1;36m1\u001b[0m\u001b[1;33m\u001b[0m\u001b[0m\n\u001b[1;32m    330\u001b[0m         \u001b[0mthislevel\u001b[0m\u001b[1;33m=\u001b[0m\u001b[0mnextlevel\u001b[0m\u001b[1;33m\u001b[0m\u001b[0m\n",
      "\u001b[0;31mKeyboardInterrupt\u001b[0m: "
     ]
    }
   ],
   "source": [
    "#开始计算参数\n",
    "ki_networkx = []\n",
    "for i in range(acounts_node):\n",
    "    ki_networkx.append(0)\n",
    "    ki_networkx[i] = len(MG.neighbors(node[i]))\n",
    "\n",
    "n_networkx = []\n",
    "for i in range(acounts_node):\n",
    "    n_networkx.append(0)\n",
    "    for n_dicts in MG[node[i]]:\n",
    "        n_networkx[i] += len(n_dicts)/2\n",
    "\n",
    "C_networkx = []    #聚集系数C=(2*n)/(ki*(ki-1))\n",
    "for i in range(acounts_node):\n",
    "    C_networkx.append(0)\n",
    "    if ki_networkx[i]>1:\n",
    "        C_networkx[i] = float(2*n_networkx[i])/(ki_networkx[i]*(ki_networkx[i]-1))\n",
    "#计算特征路径长度Lp=(2*sum(d_ij))/(n*(n+1))\n",
    "Lp_no_length_networkx = []  #特征路径长度Lp=(2*sum(d_ij))/(n*(n+1)). d_ij:i到j的最短路径长度\n",
    "Lp_length_networkx = []  #特征路径长度Lp=(2*sum(d_ij))/(n*(n+1)). d_ij:i到j的最短路径长度\n",
    "d_ij_no_length_networkx = []\n",
    "d_ij_length_networkx = []\n",
    "#无长度图\n",
    "d_ij_no_length_networkx = nx.shortest_path_length(MG)\n",
    "for i in range(acounts_node):\n",
    "    Lp_no_length_networkx.append(0)\n",
    "    d_ij_no_length_sum_networkx = 0\n",
    "    for j in range(acounts_node):\n",
    "        if i != j and node[j] in d_ij_no_length_networkx[node[i]]:\n",
    "            d_ij_no_length_sum_networkx += d_ij_no_length_networkx[node[i]][node[j]]\n",
    "    if n_networkx[i]>0:\n",
    "        Lp_no_length_networkx[i] = float(2*d_ij_no_length_sum_networkx)/(n_networkx[i]*(n_networkx[i]+1))\n",
    "        \n",
    "#有长度图\n",
    "d_ij_length_networkx = nx.shortest_path_length(MG,weight='weight')\n",
    "for i in range(acounts_node):\n",
    "    Lp_length_networkx.append(0)\n",
    "    d_ij_length_sum_networkx = 0\n",
    "    for j in range(acounts_node):\n",
    "        if i != j and node[j] in d_ij_length_networkx[node[i]] :\n",
    "            d_ij_length_sum_networkx += d_ij_length_networkx[node[i]][node[j]]\n",
    "    if n_networkx[i]>0:\n",
    "        Lp_length_networkx[i] = float(2*d_ij_length_sum_networkx)/(n_networkx[i]*(n_networkx[i]+1))\n",
    "\n",
    "# 计算中介中心度Gm=sum(sigma_ab_m/sigma_ab))\n",
    "#无长度图\n",
    "Gm_no_length = []\n",
    "for m in range(acounts_node): \n",
    "    Gm_no_length.append(0)\n",
    "    Gm_ab_no_length = 0\n",
    "    sigma_ab_m_no_length = 0\n",
    "    sigma_ab_no_length = 0\n",
    "    for i in range(acounts_node): \n",
    "        for j in range(acounts_node):\n",
    "            if i > j and i!=m and j!=m and node[j] in d_ij_no_length_networkx[node[i]]:\n",
    "                paths_ab_no_length = [p for p in nx.all_shortest_paths(MG,source=node[i],target=node[j])]\n",
    "                sigma_ab_no_length += len(paths_ab_no_length)\n",
    "                for path in paths_ab_no_length:\n",
    "                    if node[m] in path:\n",
    "                        sigma_ab_m_no_length += 1\n",
    "                Gm_ab_no_length += sigma_ab_m_no_length/sigma_ab_no_length\n",
    "                sigma_ab_m_no_length = 0\n",
    "                sigma_ab_no_length = 0                   \n",
    "    Gm_no_length[m] = Gm_ab_no_length\n",
    "    Gm_ab_no_length = 0\n",
    "#有长度图   \n",
    "Gm_length = []\n",
    "for m in range(acounts_node): \n",
    "    Gm_length.append(0)\n",
    "    Gm_ab_length = 0\n",
    "    sigma_ab_m_length = 0\n",
    "    sigma_ab_length = 0\n",
    "    for i in range(acounts_node): \n",
    "        for j in range(acounts_node):\n",
    "            if i > j and i!=m and j!=m and node[j] in d_ij_length_networkx[node[i]]:\n",
    "                paths_ab_length = [p for p in nx.all_shortest_paths(MG,source=node[i],target=node[j],weight='weight')]\n",
    "                sigma_ab_length += len(paths_ab_length)\n",
    "                for path in paths_ab_length:\n",
    "                    if node[m] in path:\n",
    "                        sigma_ab_m_length += 1\n",
    "                Gm_ab_length += sigma_ab_m_length/sigma_ab_length\n",
    "                sigma_ab_m_length = 0\n",
    "                sigma_ab_length = 0                   \n",
    "    Gm_length[m] = Gm_ab_length\n",
    "    Gm_ab_length = 0    \n",
    "\n",
    "# 将参数写入文件\n",
    "model = pd.read_csv('D:\\qq\\model.csv')\n",
    "model['node'] = node_data['Id'][:acounts_node]\n",
    "model['X'] = node_data['X'][:acounts_node]\n",
    "model['Y'] = node_data['Y'][:acounts_node]\n",
    "model['ki'] = np.array(ki_networkx)\n",
    "model['n'] = np.array(n_networkx)\n",
    "model['C'] = np.array(C_networkx)\n",
    "model['Lp_no_length'] = np.array(Lp_no_length_networkx)\n",
    "model['Lp_length'] = np.array(Lp_length_networkx)\n",
    "model['Gm_no_length'] = np.array(Gm_no_length)\n",
    "model['Gm_length'] = np.array(Gm_length)\n",
    "model.to_csv('D:\\qq\\\\results_'+year+'-node-edge.csv')"
   ]
  },
  {
   "cell_type": "code",
   "execution_count": null,
   "metadata": {
    "collapsed": true
   },
   "outputs": [],
   "source": []
  }
 ],
 "metadata": {
  "anaconda-cloud": {},
  "kernelspec": {
   "display_name": "Python 2",
   "language": "python",
   "name": "python2"
  },
  "language_info": {
   "codemirror_mode": {
    "name": "ipython",
    "version": 2
   },
   "file_extension": ".py",
   "mimetype": "text/x-python",
   "name": "python",
   "nbconvert_exporter": "python",
   "pygments_lexer": "ipython2",
   "version": "2.7.13"
  }
 },
 "nbformat": 4,
 "nbformat_minor": 2
}
